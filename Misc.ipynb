{
 "cells": [
  {
   "cell_type": "code",
   "execution_count": 1,
   "metadata": {},
   "outputs": [],
   "source": [
    "import numpy as np\n",
    "import os\n",
    "import time\n",
    "import random\n",
    "import torch\n",
    "from Model import Market_Env, portfolios_to_csv\n",
    "import matplotlib.pyplot as plt\n",
    "\n",
    "from TD3 import utils\n",
    "from TD3 import TD3\n",
    "from TD3 import OurDDPG\n",
    "from TD3 import DDPG\n"
   ]
  },
  {
   "cell_type": "code",
   "execution_count": 2,
   "metadata": {},
   "outputs": [],
   "source": [
    "policy_name=\"DDPG\"\n",
    "\n",
    "model_file = f\"./models/{policy_name}_latest\"\n",
    "fund_return_src = r'./data/Monthly_Fund_Return_Selected.csv'\n",
    "feature_src = r'./data/FEATURE.csv'\n",
    "fund_map_src =r'./data/FUND_MAP_SELECTED.csv'\n",
    "\n",
    "env =Market_Env(feature_src,fund_map_src,fund_return_src)\n",
    "\n",
    "# Set seeds\n",
    "rand_seed =random.randint(0x00000000,0xFFFFFFFF)\n",
    "env.seed(rand_seed)\n",
    "torch.manual_seed(rand_seed)\n",
    "np.random.seed(rand_seed)\n",
    "\n",
    "state_dim = env.state_dim\n",
    "action_dim = env.action_dim\n",
    "max_action = env.max_action\n",
    "policy_noise =0.2\n",
    "noise_clip = 0.5\n",
    "policy_freq =2\n",
    "\n",
    "kwargs = {\n",
    "    \"state_dim\": state_dim,\n",
    "    \"action_dim\": action_dim,\n",
    "    \"max_action\": max_action,\n",
    "    \"discount\": 0.9,\n",
    "    \"tau\": 0.005,\n",
    "}\n",
    "\n",
    "if (policy_name==\"TD3\"):\n",
    "    kwargs[\"policy_noise\"] = policy_noise * max_action\n",
    "    kwargs[\"noise_clip\"] = noise_clip * max_action\n",
    "    kwargs[\"policy_freq\"] = policy_freq\n",
    "    policy = TD3.TD3(**kwargs)\n",
    "    policy.load(model_file)\n",
    "elif(policy_name==\"DDPG\"):\n",
    "    policy = OurDDPG.DDPG(**kwargs)\n",
    "    policy.load(model_file)\n"
   ]
  },
  {
   "cell_type": "code",
   "execution_count": 3,
   "metadata": {},
   "outputs": [
    {
     "name": "stdout",
     "output_type": "stream",
     "text": [
      "30\n"
     ]
    }
   ],
   "source": [
    "state, done = env.reset(validation=True), False\n",
    "env.start_year =2017\n",
    "env.start_month =1\n",
    "while not done:\n",
    "    action = policy.select_action(np.array(state))\n",
    "    #print(np.array(state))\n",
    "    #print(action)\n",
    "    action = action+0*np.random.randn(len(action))\n",
    "    state, reward, done = env.step(action)\n",
    "    #print(reward)\n",
    "    time.sleep(.1)\n",
    "print (len(env.portfolios))\n",
    "portfolios_to_csv(env.portfolios,2017,1,f'{policy_name}_portfolios.csv',)"
   ]
  },
  {
   "cell_type": "code",
   "execution_count": 4,
   "metadata": {},
   "outputs": [
    {
     "ename": "NameError",
     "evalue": "name 'plt' is not defined",
     "output_type": "error",
     "traceback": [
      "\u001b[0;31m\u001b[0m",
      "\u001b[0;31mNameError\u001b[0mTraceback (most recent call last)",
      "\u001b[0;32m<ipython-input-4-9ff162654923>\u001b[0m in \u001b[0;36m<module>\u001b[0;34m\u001b[0m\n\u001b[1;32m     11\u001b[0m \u001b[0;34m\u001b[0m\u001b[0m\n\u001b[1;32m     12\u001b[0m \u001b[0;34m\u001b[0m\u001b[0m\n\u001b[0;32m---> 13\u001b[0;31m \u001b[0mfig\u001b[0m \u001b[0;34m=\u001b[0m \u001b[0mplt\u001b[0m\u001b[0;34m.\u001b[0m\u001b[0mfigure\u001b[0m\u001b[0;34m(\u001b[0m\u001b[0;34m)\u001b[0m\u001b[0;34m\u001b[0m\u001b[0;34m\u001b[0m\u001b[0m\n\u001b[0m\u001b[1;32m     14\u001b[0m \u001b[0max\u001b[0m \u001b[0;34m=\u001b[0m \u001b[0mfig\u001b[0m\u001b[0;34m.\u001b[0m\u001b[0madd_subplot\u001b[0m\u001b[0;34m(\u001b[0m\u001b[0;34m)\u001b[0m\u001b[0;34m\u001b[0m\u001b[0;34m\u001b[0m\u001b[0m\n\u001b[1;32m     15\u001b[0m \u001b[0max\u001b[0m\u001b[0;34m.\u001b[0m\u001b[0mset_title\u001b[0m\u001b[0;34m(\u001b[0m\u001b[0;34mf'{policy_name} Evaluation'\u001b[0m\u001b[0;34m)\u001b[0m\u001b[0;34m\u001b[0m\u001b[0;34m\u001b[0m\u001b[0m\n",
      "\u001b[0;31mNameError\u001b[0m: name 'plt' is not defined"
     ]
    }
   ],
   "source": [
    "def moving_average(a, n=3) :\n",
    "    ret = np.cumsum(a, dtype=float)\n",
    "    ret[n:] = ret[n:] - ret[:-n]\n",
    "    return ret[n - 1:] / n\n",
    "\n",
    "evaluation = f'./results/{policy_name}_84000_evaluations.npy'\n",
    "reward = f'./results/{policy_name}_84000_episode_rewards.npy'\n",
    "evaluation = np.load(evaluation)\n",
    "reward = np.load(reward)\n",
    "\n",
    "\n",
    "\n",
    "fig = plt.figure()\n",
    "ax = fig.add_subplot()\n",
    "ax.set_title(f'{policy_name} Evaluation')\n",
    "ax.set_xlabel('Episode')\n",
    "ax.set_ylabel('Evaluation reward')\n",
    "ax.plot(evaluation)\n",
    "fig = plt.figure()\n",
    "ax = fig.add_subplot()\n",
    "ax.set_title(f'{policy_name} Traning')\n",
    "ax.set_xlabel('Episode')\n",
    "ax.set_ylabel('Training reward')\n",
    "ax.plot(reward)\n",
    "ax.plot(moving_average(reward,50))"
   ]
  },
  {
   "cell_type": "code",
   "execution_count": null,
   "metadata": {},
   "outputs": [],
   "source": [
    "x = np.arange(0,0.3,0.001)   # start,stop,step\n",
    "y = 1+1/(1+np.exp(-(x-0.15)*500))+1/(1+np.exp(-(x-0.2)*500))\n",
    "\n",
    "fig = plt.figure()\n",
    "ax = fig.add_subplot()\n",
    "ax.set_xlabel('mdd')\n",
    "ax.set_ylabel('b')\n",
    "ax.plot(x,y)\n",
    "plt.show()"
   ]
  },
  {
   "cell_type": "code",
   "execution_count": null,
   "metadata": {},
   "outputs": [],
   "source": []
  }
 ],
 "metadata": {
  "kernelspec": {
   "display_name": "Python 3",
   "language": "python",
   "name": "python3"
  },
  "language_info": {
   "codemirror_mode": {
    "name": "ipython",
    "version": 3
   },
   "file_extension": ".py",
   "mimetype": "text/x-python",
   "name": "python",
   "nbconvert_exporter": "python",
   "pygments_lexer": "ipython3",
   "version": "3.6.8"
  }
 },
 "nbformat": 4,
 "nbformat_minor": 4
}
